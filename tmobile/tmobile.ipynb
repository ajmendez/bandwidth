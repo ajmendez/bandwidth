{
 "metadata": {
  "name": "",
  "signature": "sha256:68241cf4fb7d6422f1f5c12d1229ff6eb2782b9b3a61ac5227b2844069b9c22a"
 },
 "nbformat": 3,
 "nbformat_minor": 0,
 "worksheets": [
  {
   "cells": [
    {
     "cell_type": "code",
     "collapsed": false,
     "input": [
      "import os\n",
      "import time\n",
      "import json\n",
      "from splinter import Browser\n",
      "from datetime import datetime"
     ],
     "language": "python",
     "metadata": {},
     "outputs": [],
     "prompt_number": 44
    },
    {
     "cell_type": "code",
     "collapsed": false,
     "input": [
      "address = 'https://my.t-mobile.com/login/Default.aspx'\n",
      "with open(os.path.expanduser('~/.limited/tmobile.auth'), 'r') as f:\n",
      "    user,pw = f.read().strip().split(' ')"
     ],
     "language": "python",
     "metadata": {},
     "outputs": [],
     "prompt_number": 2
    },
    {
     "cell_type": "code",
     "collapsed": false,
     "input": [
      "from splinter import Browser\n",
      "browser = Browser('firefox')\n",
      "browser.visit('http://www.google.com')\n",
      "browser.fill('q', '0123456789')"
     ],
     "language": "python",
     "metadata": {},
     "outputs": []
    },
    {
     "cell_type": "code",
     "collapsed": false,
     "input": [
      "from splinter import Browser\n",
      "browser = Browser('chrome')\n",
      "browser.visit('http://www.google.com')\n",
      "browser.fill('q', '0123456789')"
     ],
     "language": "python",
     "metadata": {},
     "outputs": []
    },
    {
     "cell_type": "code",
     "collapsed": false,
     "input": [
      "tmp = dict(\n",
      "    user_agent=\"Mozilla/5.0 (Macintosh; Intel Mac OS X 10_8_5) AppleWebKit/537.36 (KHTML, like Gecko) Chrome/37.0.2062.124 Safari/537.36\"\n",
      ")\n",
      "browser = Browser('chrome', **tmp)"
     ],
     "language": "python",
     "metadata": {},
     "outputs": [],
     "prompt_number": 4
    },
    {
     "cell_type": "code",
     "collapsed": false,
     "input": [
      "browser.visit('http://www.google.com')\n"
     ],
     "language": "python",
     "metadata": {},
     "outputs": []
    },
    {
     "cell_type": "code",
     "collapsed": false,
     "input": [
      "browser.visit(address)"
     ],
     "language": "python",
     "metadata": {},
     "outputs": [],
     "prompt_number": 5
    },
    {
     "cell_type": "code",
     "collapsed": false,
     "input": [
      "print 'Here: {}'.format(browser.url)\n",
      "\n",
      "form = browser.find_by_id('Form1').first\n",
      "browser.fill_form ({'Login1:txtMSISDN':user,\n",
      "                    'Login1:txtPassword':pw})\n",
      "\n",
      "browser.find_by_id('Login1_txtMSISDN').first.fill(user)\n",
      "browser.find_by_id('Login1_txtMSISDN').first.fill('')\n",
      "[time.sleep(0.1) for x in browser.type('Login1:txtMSISDN',user, slowly=True)]\n",
      "for k in browser.find_by_id('Login1_txtMSISDN').first.type(user, slowly=True):\n",
      "    print browser.find_by_id('Login1_txtMSISDN').first.value\n",
      "    time.sleep(0.1)\n",
      "print 'Sleeping before next step'\n",
      "time.sleep(10)\n",
      "# browser.find_by_id('Login1_txtPassword').first.fill(pw)\n",
      "list(browser.find_by_id('Login1_txtPassword').first.type(pw, slowly=True))\n",
      "\n",
      "print 'Sleeping before next step'\n",
      "time.sleep(10)\n",
      "browser.find_by_id('lnkBtnLogin').first.click()"
     ],
     "language": "python",
     "metadata": {},
     "outputs": [
      {
       "output_type": "stream",
       "stream": "stdout",
       "text": [
        "Here: https://my.t-mobile.com/login/Default.aspx\n",
        "Sleeping before next step"
       ]
      },
      {
       "output_type": "stream",
       "stream": "stdout",
       "text": [
        "\n",
        "Sleeping before next step"
       ]
      },
      {
       "output_type": "stream",
       "stream": "stdout",
       "text": [
        "\n"
       ]
      }
     ],
     "prompt_number": 6
    },
    {
     "cell_type": "code",
     "collapsed": false,
     "input": [
      "print 'Sleeping before next step'\n",
      "time.sleep(10)\n",
      "while True:\n",
      "    if browser.is_text_present('Welcome,', wait_time=10):\n",
      "        print 'We are here!!!!!'\n",
      "        break\n",
      "    print 'sleep 1 sec'\n",
      "    time.sleep(1)\n",
      "\n",
      "print 'Now: {}'.format(browser.url)"
     ],
     "language": "python",
     "metadata": {},
     "outputs": [
      {
       "output_type": "stream",
       "stream": "stdout",
       "text": [
        "Sleeping before next step\n",
        "Now: https://my.t-mobile.com/Default.aspx?rp.Logon=true"
       ]
      },
      {
       "output_type": "stream",
       "stream": "stdout",
       "text": [
        "\n"
       ]
      }
     ],
     "prompt_number": 7
    },
    {
     "cell_type": "code",
     "collapsed": false,
     "input": [],
     "language": "python",
     "metadata": {},
     "outputs": []
    },
    {
     "cell_type": "code",
     "collapsed": false,
     "input": [
      "out = []\n",
      "for desc,div in zip(browser.find_by_css('div.datausage-mod-date'),\n",
      "                    browser.find_by_css('div.datausage-mod-desc') ):\n",
      "    out.append('{} {}'.format(desc.text, div.text.replace('\\n','  ')))\n",
      "for desc, div in zip(browser.find_by_css('div.myaccount-mod-date'),\n",
      "                     browser.find_by_css('div.myaccount-mod-desc') ):\n",
      "    out.append('{} {}'.format(desc.text, div.text))\n",
      "print (datetime.now() - datetime(1970, 1, 1)).total_seconds()*1000\n",
      "print out"
     ],
     "language": "python",
     "metadata": {},
     "outputs": [
      {
       "output_type": "stream",
       "stream": "stdout",
       "text": [
        "1.41391700296e+12\n",
        "['MINUTES 100 / 100', 'DATA 871.3 MB / Unlimited  Up to 5 GB high-speed data View plan', 'Account balance: $0.00', 'Account status: Active', 'Next payment amount : $30.00', 'Next charge date: 10/22/2014', ' ', 'Auto-Pay settings: ON View/edit']\n"
       ]
      }
     ],
     "prompt_number": 43
    },
    {
     "cell_type": "code",
     "collapsed": false,
     "input": [
      "tmp = datetime.now()\n",
      "output = dict(\n",
      "        datenum = int((tmp - datetime(1970, 1, 1)).total_seconds()*1000),\n",
      "        datestr = tmp.strftime(\"%Y-%m-%d %H:%M:%S\"),\n",
      "        information = ', '.join(out),\n",
      "    )\n",
      "output"
     ],
     "language": "python",
     "metadata": {},
     "outputs": [
      {
       "metadata": {},
       "output_type": "pyout",
       "prompt_number": 36,
       "text": [
        "{'datenum': 1413916479032,\n",
        " 'datestr': '2014-10-21 18:34:39',\n",
        " 'information': 'MINUTES 100 / 100, DATA 871.3 MB / Unlimited'}"
       ]
      }
     ],
     "prompt_number": 36
    },
    {
     "cell_type": "code",
     "collapsed": false,
     "input": [
      "print int((datetime.now() - datetime(1970, 1, 1)).total_seconds()*1000),1413101544323"
     ],
     "language": "python",
     "metadata": {},
     "outputs": [
      {
       "output_type": "stream",
       "stream": "stdout",
       "text": [
        "1413916139291 1413101544323\n"
       ]
      }
     ],
     "prompt_number": 27
    },
    {
     "cell_type": "code",
     "collapsed": false,
     "input": [
      "outfile = os.path.expanduser('~/data/bandwidth/tmobile_splinter.txt')\n",
      "jsonfile = outfile.replace('.txt','.json')\n",
      "try:\n",
      "    data = json.load(open(jsonfile, 'r'))\n",
      "except:\n",
      "    data = []\n",
      "\n",
      "data.append(output)\n",
      "\n",
      "json.dump(data, open(jsonfile, 'w'), indent=2)"
     ],
     "language": "python",
     "metadata": {},
     "outputs": [],
     "prompt_number": 47
    },
    {
     "cell_type": "code",
     "collapsed": false,
     "input": [],
     "language": "python",
     "metadata": {},
     "outputs": []
    }
   ],
   "metadata": {}
  }
 ]
}