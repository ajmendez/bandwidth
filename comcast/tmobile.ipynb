{
 "metadata": {
  "name": "",
  "signature": "sha256:3a25aa45989ac98d66cb658763660499d963e2b6436107601e444fcff9f00cea"
 },
 "nbformat": 3,
 "nbformat_minor": 0,
 "worksheets": [
  {
   "cells": [
    {
     "cell_type": "markdown",
     "metadata": {},
     "source": [
      "# T-Mobile"
     ]
    },
    {
     "cell_type": "code",
     "collapsed": false,
     "input": [
      "import twill\n",
      "import requests\n",
      "from pymendez import auth"
     ],
     "language": "python",
     "metadata": {},
     "outputs": [],
     "prompt_number": 1
    },
    {
     "cell_type": "code",
     "collapsed": false,
     "input": [
      "user,pw = auth('tmobile',['username','password'])\n",
      "webpage = 'https://my.t-mobile.com/Login/default.aspx'\n",
      "datapage = 'https://my.t-mobile.com/Plan/Prepaid/Default.aspx'"
     ],
     "language": "python",
     "metadata": {},
     "outputs": [],
     "prompt_number": 7
    },
    {
     "cell_type": "code",
     "collapsed": false,
     "input": [
      "# twill.commands.reset_browser()\n",
      "# twill.commands.go(webpage)\n",
      "# twill.commands.showforms()\n",
      "# twill.commands.fv('1', 'Login1:txtMSISDN', user)\n",
      "# twill.commands.fv('1', 'Login1:txtPassword', pw)\n",
      "# twill.commands.showlinks()\n",
      "# twill.commands.formaction('Form1','https://my.t-mobile.com/Login/MyTMobileLogin.aspx')\n",
      "# twill.commands.submit()\n",
      "# # twill.commands.showlinks()\n",
      "# br = twill.commands.get_browser()\n",
      "\n",
      "# br.go(datapage)\n",
      "# print br.get_title()\n",
      "# # print br.showhistory()\n",
      "# # print br.response()"
     ],
     "language": "python",
     "metadata": {},
     "outputs": [],
     "prompt_number": 32
    },
    {
     "cell_type": "code",
     "collapsed": false,
     "input": [
      "# import re\n",
      "# from mechanize import Browser\n",
      "\n",
      "# br = Browser()\n",
      "# br.open(webpage)\n",
      "# br.select_form(name=\"Form1\")\n",
      "# br['Login1:txtMSISDN'] = user\n",
      "# br['Login1:txtMSISDN'] = pw\n",
      "\n",
      "\n",
      "# # follow second link with element text matching regular expression\n",
      "# response1 = br.follow_link(id='lnkBtnLogin')\n",
      "# assert br.viewing_html()\n",
      "# print br.title()\n",
      "# print response1.geturl()\n",
      "# print response1.info()  # headers\n",
      "# print response1.read()  # body\n",
      "# response1.close()  # (shown for clarity; in fact Browser does this for you)\n",
      "\n",
      "# # br.select_form(name=\"order\")\n",
      "# # Browser passes through unknown attributes (including methods)\n",
      "# # to the selected HTMLForm (from ClientForm).\n",
      "# # br[\"cheeses\"] = [\"mozzarella\", \"caerphilly\"]  # (the method here is __setitem__)\n",
      "# # response2 = br.submit()  # submit current form\n",
      "\n",
      "# # print currently selected form (don't call .submit() on this, use br.submit())\n",
      "# # print br.form"
     ],
     "language": "python",
     "metadata": {},
     "outputs": [],
     "prompt_number": 31
    },
    {
     "cell_type": "code",
     "collapsed": false,
     "input": [
      "# import base64\n",
      "# from mechanize import Browser\n",
      "# browser = Browser()\n",
      "# browser.addheaders.append(('Authorization', 'Basic %s' % base64.encodestring('%s:%s' % (user, pw))))\n",
      "# resp = browser.open('https://www.t-mobile.co.uk/mtmapis/restws/v1.0/user-info/')\n",
      "# resp.read()"
     ],
     "language": "python",
     "metadata": {},
     "outputs": [],
     "prompt_number": 30
    },
    {
     "cell_type": "code",
     "collapsed": false,
     "input": [
      "from requests.auth import HTTPBasicAuth\n",
      "page = 'https://www.t-mobile.co.uk/mtmapis/restws/v1.0/user-info/'\n",
      "page = 'https://www.t-mobile.co.uk/mtmapis/restws/v1.0/authenticate/'\n",
      "resp = requests.get(page, auth=HTTPBasicAuth(user, pw))\n",
      "resp"
     ],
     "language": "python",
     "metadata": {},
     "outputs": [
      {
       "metadata": {},
       "output_type": "pyout",
       "prompt_number": 29,
       "text": [
        "<Response [401]>"
       ]
      }
     ],
     "prompt_number": 29
    },
    {
     "cell_type": "code",
     "collapsed": false,
     "input": [],
     "language": "python",
     "metadata": {},
     "outputs": []
    }
   ],
   "metadata": {}
  }
 ]
}