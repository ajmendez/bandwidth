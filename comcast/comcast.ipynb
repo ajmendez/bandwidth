{
 "metadata": {
  "name": "",
  "signature": "sha256:a655029f1c6d68ccdb230068bc7eb5b434f8501166cc42ba54c671d74e060edb"
 },
 "nbformat": 3,
 "nbformat_minor": 0,
 "worksheets": [
  {
   "cells": [
    {
     "cell_type": "code",
     "collapsed": false,
     "input": [
      "import twill\n",
      "import requests\n",
      "import mechanize\n",
      "import cookielib\n",
      "from pymendez import auth"
     ],
     "language": "python",
     "metadata": {},
     "outputs": [],
     "prompt_number": 4
    },
    {
     "cell_type": "markdown",
     "metadata": {},
     "source": [
      "# Comcast"
     ]
    },
    {
     "cell_type": "code",
     "collapsed": false,
     "input": [
      "username, password = auth('comcast', ['username','password'])\n",
      "webpage = 'https://customer.comcast.com/MyServices/Internet/?ajax=1'"
     ],
     "language": "python",
     "metadata": {},
     "outputs": [],
     "prompt_number": 5
    },
    {
     "cell_type": "code",
     "collapsed": false,
     "input": [
      "def getcookies():\n",
      "    twill.commands.go(webpage)\n",
      "#     twill.commands.formaction('1', 'https://login.comcast.net/login')\n",
      "#     twill.commands.formclear('1')\n",
      "    twill.commands.fv('1', 'user', username)\n",
      "    twill.commands.fv('1', 'passwd', password)\n",
      "    twill.commands.submit('1')\n",
      "    br = twill.commands.get_browser()\n",
      "    return br._session.cookies\n",
      "# cookies = getcookies()"
     ],
     "language": "python",
     "metadata": {},
     "outputs": [],
     "prompt_number": 1
    },
    {
     "cell_type": "code",
     "collapsed": false,
     "input": [
      "import cookielib\n",
      "def save_cookies_lwp(cookiejar, filename):\n",
      "    lwp_cookiejar = cookielib.LWPCookieJar()\n",
      "    for c in cookiejar:\n",
      "        args = dict(vars(c).items())\n",
      "        args['rest'] = args['_rest']\n",
      "        del args['_rest']\n",
      "        c = cookielib.Cookie(**args)\n",
      "        lwp_cookiejar.set_cookie(c)\n",
      "    lwp_cookiejar.save(filename, ignore_discard=True)\n",
      "\n",
      "def load_cookies_from_lwp(filename):\n",
      "    lwp_cookiejar = cookielib.LWPCookieJar()\n",
      "    lwp_cookiejar.load(filename, ignore_discard=True)\n",
      "    return lwp_cookiejar\n",
      "save_cookies_lwp(cookies, 'cookie_test.txt')\n",
      "# print requests.get(webpage, cookies=cookies).text"
     ],
     "language": "python",
     "metadata": {},
     "outputs": [],
     "prompt_number": 10
    },
    {
     "cell_type": "code",
     "collapsed": false,
     "input": [
      "br = mechanize.Browser()\n",
      "cj = cookielib.LWPCookieJar()\n",
      "br.set_cookiejar(cj)\n",
      "br.set_handle_equiv(True)\n",
      "with warnings.catch_warnings():\n",
      "    warnings.simplefilter(\"ignore\")\n",
      "    br.set_handle_gzip(True)\n",
      "br.set_handle_redirect(True)\n",
      "br.set_handle_referer(True)\n",
      "br.set_handle_robots(False)\n",
      "br.set_handle_refresh(mechanize._http.HTTPRefreshProcessor(), max_time=1)\n",
      "# br.set_debug_http(True)\n",
      "# br.set_debug_redirects(True)\n",
      "# br.set_debug_responses(True)\n",
      "br.addheaders = [('User-agent',\n",
      "            'Mozilla/5.0 (Macintosh; U; Intel Mac OS X 10_6_4; en-US)'\n",
      "            'AppleWebKit/534.10 (KHTML, like Gecko)'\n",
      "            'Chrome/8.0.552.11 Safari/534.10')]\n",
      "br.open('https://customer.comcast.com/MyServices/Internet/?ajax=1')"
     ],
     "language": "python",
     "metadata": {},
     "outputs": [
      {
       "metadata": {},
       "output_type": "pyout",
       "prompt_number": 21,
       "text": [
        "<response_seek_wrapper at 0x108398680 whose wrapped object = <closeable_response at 0x1083a0c68 whose fp = <socket._fileobject object at 0x1083dcb50>>>"
       ]
      }
     ],
     "prompt_number": 21
    },
    {
     "cell_type": "code",
     "collapsed": false,
     "input": [
      "br.select_form(nr=0)\n",
      "br[\"user\"] = username\n",
      "br[\"passwd\"] = password\n",
      "br.submit()"
     ],
     "language": "python",
     "metadata": {},
     "outputs": [
      {
       "metadata": {},
       "output_type": "pyout",
       "prompt_number": 22,
       "text": [
        "<response_seek_wrapper at 0x108398518 whose wrapped object = <closeable_response at 0x1083d4f80 whose fp = <socket._fileobject object at 0x1083dc150>>>"
       ]
      }
     ],
     "prompt_number": 22
    },
    {
     "cell_type": "code",
     "collapsed": false,
     "input": [
      "br.open('https://customer.comcast.com/MyServices/Internet/?ajax=1')\n",
      "print 'GB' in br.response().read()"
     ],
     "language": "python",
     "metadata": {},
     "outputs": [
      {
       "output_type": "stream",
       "stream": "stdout",
       "text": [
        "False\n"
       ]
      }
     ],
     "prompt_number": 24
    },
    {
     "cell_type": "code",
     "collapsed": false,
     "input": [],
     "language": "python",
     "metadata": {},
     "outputs": [
      {
       "output_type": "stream",
       "stream": "stdout",
       "text": [
        "Setting action for form  (<Element form at 0x1122ef290>,) to  ('https://login.comcast.net/login',)\n"
       ]
      }
     ],
     "prompt_number": 6
    },
    {
     "cell_type": "code",
     "collapsed": false,
     "input": [
      "# twill.commands.submit('1')"
     ],
     "language": "python",
     "metadata": {},
     "outputs": [],
     "prompt_number": 2
    },
    {
     "cell_type": "code",
     "collapsed": false,
     "input": [
      "browser = twill.commands.get_browser()"
     ],
     "language": "python",
     "metadata": {},
     "outputs": [],
     "prompt_number": 8
    },
    {
     "cell_type": "code",
     "collapsed": false,
     "input": [
      "cookies = browser._session.cookies"
     ],
     "language": "python",
     "metadata": {},
     "outputs": [],
     "prompt_number": 9
    },
    {
     "cell_type": "code",
     "collapsed": false,
     "input": [
      "resp = requests.get(webpage, cookies=cookies)"
     ],
     "language": "python",
     "metadata": {},
     "outputs": [],
     "prompt_number": 10
    },
    {
     "cell_type": "code",
     "collapsed": false,
     "input": [
      "twill.commands.go(webpage)"
     ],
     "language": "python",
     "metadata": {},
     "outputs": [
      {
       "output_type": "stream",
       "stream": "stdout",
       "text": [
        "==> at https://login.comcast.net:443/login?continue=%2fMyServices%2fInternet%2f&s=ccentral-cima&r=comcast.net\n"
       ]
      },
      {
       "metadata": {},
       "output_type": "pyout",
       "prompt_number": 11,
       "text": [
        "u'https://login.comcast.net:443/login?continue=%2fMyServices%2fInternet%2f&s=ccentral-cima&r=comcast.net'"
       ]
      }
     ],
     "prompt_number": 11
    },
    {
     "cell_type": "code",
     "collapsed": false,
     "input": [
      "# twill.commands.showforms()"
     ],
     "language": "python",
     "metadata": {},
     "outputs": [],
     "prompt_number": 3
    },
    {
     "cell_type": "code",
     "collapsed": false,
     "input": [
      "twill.commands.set_form_control_value('name','redir')"
     ],
     "language": "python",
     "metadata": {},
     "outputs": [],
     "prompt_number": 23
    },
    {
     "cell_type": "code",
     "collapsed": false,
     "input": [
      "browser = twill.commands.get_browser()"
     ],
     "language": "python",
     "metadata": {},
     "outputs": [],
     "prompt_number": 26
    },
    {
     "cell_type": "code",
     "collapsed": false,
     "input": [
      "# twill.commands.formaction('redir', webpage)"
     ],
     "language": "python",
     "metadata": {},
     "outputs": [],
     "prompt_number": 4
    },
    {
     "cell_type": "code",
     "collapsed": false,
     "input": [
      "# twill.commands.submit('2')"
     ],
     "language": "python",
     "metadata": {},
     "outputs": [],
     "prompt_number": 51
    },
    {
     "cell_type": "code",
     "collapsed": false,
     "input": [
      "# print browser.get_html()"
     ],
     "language": "python",
     "metadata": {},
     "outputs": [],
     "prompt_number": 52
    },
    {
     "cell_type": "code",
     "collapsed": false,
     "input": [
      "# print resp.url \n",
      "# print resp.text"
     ],
     "language": "python",
     "metadata": {},
     "outputs": [],
     "prompt_number": 54
    },
    {
     "cell_type": "code",
     "collapsed": false,
     "input": [
      "cj = cookielib.MozillaCookieJar('/Users/ajmendez/tmp/bandwidth/cookies_simple.txt')\n",
      "cj.load()\n",
      "response = requests.get(webpage, cookies=cj)\n",
      "print 'Sign in' in response.text"
     ],
     "language": "python",
     "metadata": {},
     "outputs": [
      {
       "output_type": "stream",
       "stream": "stdout",
       "text": [
        "True\n"
       ]
      }
     ],
     "prompt_number": 50
    },
    {
     "cell_type": "code",
     "collapsed": false,
     "input": [],
     "language": "python",
     "metadata": {},
     "outputs": []
    }
   ],
   "metadata": {}
  }
 ]
}